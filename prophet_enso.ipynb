{
  "nbformat": 4,
  "nbformat_minor": 0,
  "metadata": {
    "colab": {
      "provenance": []
    },
    "kernelspec": {
      "name": "python3",
      "display_name": "Python 3"
    },
    "language_info": {
      "name": "python"
    }
  },
  "cells": [
    {
      "cell_type": "code",
      "execution_count": null,
      "metadata": {
        "colab": {
          "base_uri": "https://localhost:8080/"
        },
        "id": "btKb6IcC7WRs",
        "outputId": "ca214913-4c6d-4bd7-cc13-7f90a43bd05d"
      },
      "outputs": [
        {
          "output_type": "stream",
          "name": "stdout",
          "text": [
            "Requirement already satisfied: prophet in /usr/local/lib/python3.10/dist-packages (1.1.5)\n",
            "Requirement already satisfied: cmdstanpy>=1.0.4 in /usr/local/lib/python3.10/dist-packages (from prophet) (1.2.4)\n",
            "Requirement already satisfied: numpy>=1.15.4 in /usr/local/lib/python3.10/dist-packages (from prophet) (1.26.4)\n",
            "Requirement already satisfied: matplotlib>=2.0.0 in /usr/local/lib/python3.10/dist-packages (from prophet) (3.7.1)\n",
            "Requirement already satisfied: pandas>=1.0.4 in /usr/local/lib/python3.10/dist-packages (from prophet) (2.1.4)\n",
            "Requirement already satisfied: holidays>=0.25 in /usr/local/lib/python3.10/dist-packages (from prophet) (0.53)\n",
            "Requirement already satisfied: tqdm>=4.36.1 in /usr/local/lib/python3.10/dist-packages (from prophet) (4.66.4)\n",
            "Requirement already satisfied: importlib-resources in /usr/local/lib/python3.10/dist-packages (from prophet) (6.4.0)\n",
            "Requirement already satisfied: stanio<2.0.0,>=0.4.0 in /usr/local/lib/python3.10/dist-packages (from cmdstanpy>=1.0.4->prophet) (0.5.1)\n",
            "Requirement already satisfied: python-dateutil in /usr/local/lib/python3.10/dist-packages (from holidays>=0.25->prophet) (2.8.2)\n",
            "Requirement already satisfied: contourpy>=1.0.1 in /usr/local/lib/python3.10/dist-packages (from matplotlib>=2.0.0->prophet) (1.2.1)\n",
            "Requirement already satisfied: cycler>=0.10 in /usr/local/lib/python3.10/dist-packages (from matplotlib>=2.0.0->prophet) (0.12.1)\n",
            "Requirement already satisfied: fonttools>=4.22.0 in /usr/local/lib/python3.10/dist-packages (from matplotlib>=2.0.0->prophet) (4.53.1)\n",
            "Requirement already satisfied: kiwisolver>=1.0.1 in /usr/local/lib/python3.10/dist-packages (from matplotlib>=2.0.0->prophet) (1.4.5)\n",
            "Requirement already satisfied: packaging>=20.0 in /usr/local/lib/python3.10/dist-packages (from matplotlib>=2.0.0->prophet) (24.1)\n",
            "Requirement already satisfied: pillow>=6.2.0 in /usr/local/lib/python3.10/dist-packages (from matplotlib>=2.0.0->prophet) (9.4.0)\n",
            "Requirement already satisfied: pyparsing>=2.3.1 in /usr/local/lib/python3.10/dist-packages (from matplotlib>=2.0.0->prophet) (3.1.2)\n",
            "Requirement already satisfied: pytz>=2020.1 in /usr/local/lib/python3.10/dist-packages (from pandas>=1.0.4->prophet) (2024.1)\n",
            "Requirement already satisfied: tzdata>=2022.1 in /usr/local/lib/python3.10/dist-packages (from pandas>=1.0.4->prophet) (2024.1)\n",
            "Requirement already satisfied: six>=1.5 in /usr/local/lib/python3.10/dist-packages (from python-dateutil->holidays>=0.25->prophet) (1.16.0)\n"
          ]
        }
      ],
      "source": [
        "# Instalar la biblioteca Prophet\n",
        "!pip install prophet\n",
        "\n",
        "# Importar las bibliotecas necesarias\n",
        "import pandas as pd\n",
        "import numpy as np\n",
        "from sklearn.metrics import mean_squared_error, mean_absolute_error, r2_score\n",
        "from statsmodels.tsa.stattools import adfuller\n",
        "from prophet import Prophet  # Importar Prophet después de la instalación\n",
        "import warnings\n",
        "\n",
        "warnings.filterwarnings(\"ignore\")  # Ignorar advertencias\n"
      ]
    },
    {
      "cell_type": "code",
      "source": [
        "# Subir el archivo desde el sistema local\n",
        "from google.colab import files\n",
        "uploaded = files.upload()  # Abre un cuadro de diálogo para subir archivos\n",
        "\n",
        "# Leer el archivo CSV en un DataFrame\n",
        "df = pd.read_csv('Enso.csv')  # Asegúrate de que el nombre del archivo coincida\n"
      ],
      "metadata": {
        "colab": {
          "base_uri": "https://localhost:8080/",
          "height": 73
        },
        "id": "UXNeOwRD8NXH",
        "outputId": "793f5704-62ad-4f8c-c552-ac56fc7df4b1"
      },
      "execution_count": null,
      "outputs": [
        {
          "output_type": "display_data",
          "data": {
            "text/plain": [
              "<IPython.core.display.HTML object>"
            ],
            "text/html": [
              "\n",
              "     <input type=\"file\" id=\"files-3267a06d-6d64-4a63-9f79-5e96113433f4\" name=\"files[]\" multiple disabled\n",
              "        style=\"border:none\" />\n",
              "     <output id=\"result-3267a06d-6d64-4a63-9f79-5e96113433f4\">\n",
              "      Upload widget is only available when the cell has been executed in the\n",
              "      current browser session. Please rerun this cell to enable.\n",
              "      </output>\n",
              "      <script>// Copyright 2017 Google LLC\n",
              "//\n",
              "// Licensed under the Apache License, Version 2.0 (the \"License\");\n",
              "// you may not use this file except in compliance with the License.\n",
              "// You may obtain a copy of the License at\n",
              "//\n",
              "//      http://www.apache.org/licenses/LICENSE-2.0\n",
              "//\n",
              "// Unless required by applicable law or agreed to in writing, software\n",
              "// distributed under the License is distributed on an \"AS IS\" BASIS,\n",
              "// WITHOUT WARRANTIES OR CONDITIONS OF ANY KIND, either express or implied.\n",
              "// See the License for the specific language governing permissions and\n",
              "// limitations under the License.\n",
              "\n",
              "/**\n",
              " * @fileoverview Helpers for google.colab Python module.\n",
              " */\n",
              "(function(scope) {\n",
              "function span(text, styleAttributes = {}) {\n",
              "  const element = document.createElement('span');\n",
              "  element.textContent = text;\n",
              "  for (const key of Object.keys(styleAttributes)) {\n",
              "    element.style[key] = styleAttributes[key];\n",
              "  }\n",
              "  return element;\n",
              "}\n",
              "\n",
              "// Max number of bytes which will be uploaded at a time.\n",
              "const MAX_PAYLOAD_SIZE = 100 * 1024;\n",
              "\n",
              "function _uploadFiles(inputId, outputId) {\n",
              "  const steps = uploadFilesStep(inputId, outputId);\n",
              "  const outputElement = document.getElementById(outputId);\n",
              "  // Cache steps on the outputElement to make it available for the next call\n",
              "  // to uploadFilesContinue from Python.\n",
              "  outputElement.steps = steps;\n",
              "\n",
              "  return _uploadFilesContinue(outputId);\n",
              "}\n",
              "\n",
              "// This is roughly an async generator (not supported in the browser yet),\n",
              "// where there are multiple asynchronous steps and the Python side is going\n",
              "// to poll for completion of each step.\n",
              "// This uses a Promise to block the python side on completion of each step,\n",
              "// then passes the result of the previous step as the input to the next step.\n",
              "function _uploadFilesContinue(outputId) {\n",
              "  const outputElement = document.getElementById(outputId);\n",
              "  const steps = outputElement.steps;\n",
              "\n",
              "  const next = steps.next(outputElement.lastPromiseValue);\n",
              "  return Promise.resolve(next.value.promise).then((value) => {\n",
              "    // Cache the last promise value to make it available to the next\n",
              "    // step of the generator.\n",
              "    outputElement.lastPromiseValue = value;\n",
              "    return next.value.response;\n",
              "  });\n",
              "}\n",
              "\n",
              "/**\n",
              " * Generator function which is called between each async step of the upload\n",
              " * process.\n",
              " * @param {string} inputId Element ID of the input file picker element.\n",
              " * @param {string} outputId Element ID of the output display.\n",
              " * @return {!Iterable<!Object>} Iterable of next steps.\n",
              " */\n",
              "function* uploadFilesStep(inputId, outputId) {\n",
              "  const inputElement = document.getElementById(inputId);\n",
              "  inputElement.disabled = false;\n",
              "\n",
              "  const outputElement = document.getElementById(outputId);\n",
              "  outputElement.innerHTML = '';\n",
              "\n",
              "  const pickedPromise = new Promise((resolve) => {\n",
              "    inputElement.addEventListener('change', (e) => {\n",
              "      resolve(e.target.files);\n",
              "    });\n",
              "  });\n",
              "\n",
              "  const cancel = document.createElement('button');\n",
              "  inputElement.parentElement.appendChild(cancel);\n",
              "  cancel.textContent = 'Cancel upload';\n",
              "  const cancelPromise = new Promise((resolve) => {\n",
              "    cancel.onclick = () => {\n",
              "      resolve(null);\n",
              "    };\n",
              "  });\n",
              "\n",
              "  // Wait for the user to pick the files.\n",
              "  const files = yield {\n",
              "    promise: Promise.race([pickedPromise, cancelPromise]),\n",
              "    response: {\n",
              "      action: 'starting',\n",
              "    }\n",
              "  };\n",
              "\n",
              "  cancel.remove();\n",
              "\n",
              "  // Disable the input element since further picks are not allowed.\n",
              "  inputElement.disabled = true;\n",
              "\n",
              "  if (!files) {\n",
              "    return {\n",
              "      response: {\n",
              "        action: 'complete',\n",
              "      }\n",
              "    };\n",
              "  }\n",
              "\n",
              "  for (const file of files) {\n",
              "    const li = document.createElement('li');\n",
              "    li.append(span(file.name, {fontWeight: 'bold'}));\n",
              "    li.append(span(\n",
              "        `(${file.type || 'n/a'}) - ${file.size} bytes, ` +\n",
              "        `last modified: ${\n",
              "            file.lastModifiedDate ? file.lastModifiedDate.toLocaleDateString() :\n",
              "                                    'n/a'} - `));\n",
              "    const percent = span('0% done');\n",
              "    li.appendChild(percent);\n",
              "\n",
              "    outputElement.appendChild(li);\n",
              "\n",
              "    const fileDataPromise = new Promise((resolve) => {\n",
              "      const reader = new FileReader();\n",
              "      reader.onload = (e) => {\n",
              "        resolve(e.target.result);\n",
              "      };\n",
              "      reader.readAsArrayBuffer(file);\n",
              "    });\n",
              "    // Wait for the data to be ready.\n",
              "    let fileData = yield {\n",
              "      promise: fileDataPromise,\n",
              "      response: {\n",
              "        action: 'continue',\n",
              "      }\n",
              "    };\n",
              "\n",
              "    // Use a chunked sending to avoid message size limits. See b/62115660.\n",
              "    let position = 0;\n",
              "    do {\n",
              "      const length = Math.min(fileData.byteLength - position, MAX_PAYLOAD_SIZE);\n",
              "      const chunk = new Uint8Array(fileData, position, length);\n",
              "      position += length;\n",
              "\n",
              "      const base64 = btoa(String.fromCharCode.apply(null, chunk));\n",
              "      yield {\n",
              "        response: {\n",
              "          action: 'append',\n",
              "          file: file.name,\n",
              "          data: base64,\n",
              "        },\n",
              "      };\n",
              "\n",
              "      let percentDone = fileData.byteLength === 0 ?\n",
              "          100 :\n",
              "          Math.round((position / fileData.byteLength) * 100);\n",
              "      percent.textContent = `${percentDone}% done`;\n",
              "\n",
              "    } while (position < fileData.byteLength);\n",
              "  }\n",
              "\n",
              "  // All done.\n",
              "  yield {\n",
              "    response: {\n",
              "      action: 'complete',\n",
              "    }\n",
              "  };\n",
              "}\n",
              "\n",
              "scope.google = scope.google || {};\n",
              "scope.google.colab = scope.google.colab || {};\n",
              "scope.google.colab._files = {\n",
              "  _uploadFiles,\n",
              "  _uploadFilesContinue,\n",
              "};\n",
              "})(self);\n",
              "</script> "
            ]
          },
          "metadata": {}
        },
        {
          "output_type": "stream",
          "name": "stdout",
          "text": [
            "Saving Enso.csv to Enso (1).csv\n"
          ]
        }
      ]
    },
    {
      "cell_type": "code",
      "source": [
        "# Limpiar y corregir las fechas en el DataFrame\n",
        "def clean_dates(df, date_column):\n",
        "    \"\"\"\n",
        "    Esta función corrige las fechas inválidas en el DataFrame.\n",
        "    \"\"\"\n",
        "    df[date_column] = pd.to_datetime(df[date_column], errors='coerce')\n",
        "    # Remover filas con fechas inválidas\n",
        "    df = df.dropna(subset=[date_column])\n",
        "    return df\n",
        "\n",
        "# Verificar y limpiar la columna de fecha si está presente\n",
        "if 'Date' in df.columns:\n",
        "    df = clean_dates(df, 'Date')\n",
        "    df.set_index('Date', inplace=True)\n",
        "\n",
        "# Verificar nuevamente las fechas después de la limpieza\n",
        "print(\"Fechas después de la limpieza:\")\n",
        "print(df.index)\n"
      ],
      "metadata": {
        "colab": {
          "base_uri": "https://localhost:8080/"
        },
        "id": "j6ubuZxm81PD",
        "outputId": "699679dc-4666-47b7-d14a-52eff1354f31"
      },
      "execution_count": null,
      "outputs": [
        {
          "output_type": "stream",
          "name": "stdout",
          "text": [
            "Fechas después de la limpieza:\n",
            "DatetimeIndex(['1870-01-01', '1870-02-01', '1870-03-01', '1870-04-01',\n",
            "               '1870-05-01', '1870-06-01', '1870-07-01', '1870-08-01',\n",
            "               '1870-09-01', '1870-10-01',\n",
            "               ...\n",
            "               '2023-08-01', '2023-09-01', '2023-10-01', '2023-11-01',\n",
            "               '2023-12-01', '2024-01-01', '2024-02-01', '2024-03-01',\n",
            "               '2024-04-01', '2024-05-01'],\n",
            "              dtype='datetime64[ns]', name='Date', length=1853, freq=None)\n"
          ]
        }
      ]
    },
    {
      "cell_type": "code",
      "source": [
        "# Definir una función para ajustar un modelo Prophet y devolver los estadísticos de predicción\n",
        "def prophet_forecast(series, freq='D'):\n",
        "    # Asegurarse de que la serie sea un vector unidimensional (sin nulos)\n",
        "    series = series.dropna().astype(float)\n",
        "\n",
        "    # Crear un DataFrame compatible con Prophet\n",
        "    df_prophet = series.reset_index()\n",
        "    df_prophet.columns = ['ds', 'y']  # Columnas requeridas por Prophet\n",
        "\n",
        "    # Dividir los datos en conjunto de entrenamiento (70%) y prueba (30%)\n",
        "    train_size = int(len(df_prophet) * 0.7)\n",
        "    train, test = df_prophet[:train_size], df_prophet[train_size:]\n",
        "\n",
        "    # Ajustar el modelo Prophet\n",
        "    model = Prophet(daily_seasonality=True, yearly_seasonality=True)\n",
        "    model.fit(train)\n",
        "\n",
        "    # Crear un DataFrame para las fechas futuras\n",
        "    future = model.make_future_dataframe(periods=len(test), freq=freq)\n",
        "\n",
        "    # Generar pronósticos\n",
        "    forecast = model.predict(future)\n",
        "\n",
        "    # Extraer los valores pronosticados correspondientes al conjunto de prueba\n",
        "    y_pred = forecast['yhat'].values[-len(test):]\n",
        "\n",
        "    # Calcular métricas de evaluación\n",
        "    mse = mean_squared_error(test['y'], y_pred)  # Error Cuadrático Medio\n",
        "    rmse = np.sqrt(mse)  # Raíz del Error Cuadrático Medio\n",
        "    mae = mean_absolute_error(test['y'], y_pred)  # Error Absoluto Medio\n",
        "    r2 = r2_score(test['y'], y_pred)  # Coeficiente de Determinación\n",
        "\n",
        "    # Calcular MAPE manejando valores cero\n",
        "    mape = np.mean(np.abs((test['y'] - y_pred) / (test['y'] + np.finfo(float).eps))) * 100  # Evitar división por cero\n",
        "\n",
        "    # Realizar la prueba de Dickey-Fuller aumentada para la estacionariedad\n",
        "    adf_test = adfuller(series)\n",
        "    adf_statistic = adf_test[0]  # Estadístico ADF\n",
        "    adf_p_value = adf_test[1]  # Valor p de la prueba ADF\n",
        "\n",
        "    # Devolver las métricas y los estadísticos en un diccionario\n",
        "    return {\n",
        "        'mse': mse,\n",
        "        'rmse': rmse,\n",
        "        'mae': mae,\n",
        "        'r2': r2,\n",
        "        'mape': mape,\n",
        "        'adf_statistic': adf_statistic,\n",
        "        'adf_p_value': adf_p_value\n",
        "    }\n",
        "\n",
        "# Aplicar el modelo Prophet a cada una de las series de tiempo numéricas en el DataFrame\n",
        "prophet_results = {}\n",
        "for column in df.select_dtypes(include=[np.number]).columns:\n",
        "    print(f\"Procesando la serie de tiempo: {column}\")\n",
        "    prophet_results[column] = prophet_forecast(df[column])\n",
        "\n",
        "# Crear un DataFrame para almacenar los resultados\n",
        "results_df = pd.DataFrame(prophet_results).T  # Transponer para una mejor presentación\n",
        "results_df.columns = ['MSE', 'RMSE', 'MAE', 'R²', 'MAPE', 'ADF Statistic', 'ADF P-value']  # Renombrar columnas\n",
        "\n",
        "# Mostrar el DataFrame con los resultados\n",
        "print(\"Resumen de los resultados de Prophet:\")\n",
        "print(results_df)\n",
        "\n",
        "# Guardar el DataFrame en un archivo CSV\n",
        "results_df.to_csv('prophet_model_comparison.csv', index=True)  # Guardar el DataFrame en un archivo CSV\n",
        "files.download('prophet_model_comparison.csv')  # Descargar el archivo CSV generado\n",
        "\n",
        "\n"
      ],
      "metadata": {
        "colab": {
          "base_uri": "https://localhost:8080/",
          "height": 1000
        },
        "id": "XIUj34Vr9SFX",
        "outputId": "cab1abd0-8e63-4ca0-817b-a3665988746f"
      },
      "execution_count": null,
      "outputs": [
        {
          "output_type": "stream",
          "name": "stderr",
          "text": [
            "INFO:prophet:Disabling weekly seasonality. Run prophet with weekly_seasonality=True to override this.\n",
            "DEBUG:cmdstanpy:input tempfile: /tmp/tmpagh989pv/ao2hclug.json\n"
          ]
        },
        {
          "output_type": "stream",
          "name": "stdout",
          "text": [
            "Procesando la serie de tiempo: nino12\n"
          ]
        },
        {
          "output_type": "stream",
          "name": "stderr",
          "text": [
            "DEBUG:cmdstanpy:input tempfile: /tmp/tmpagh989pv/oqmbn1cm.json\n",
            "DEBUG:cmdstanpy:idx 0\n",
            "DEBUG:cmdstanpy:running CmdStan, num_threads: None\n",
            "DEBUG:cmdstanpy:CmdStan args: ['/usr/local/lib/python3.10/dist-packages/prophet/stan_model/prophet_model.bin', 'random', 'seed=42484', 'data', 'file=/tmp/tmpagh989pv/ao2hclug.json', 'init=/tmp/tmpagh989pv/oqmbn1cm.json', 'output', 'file=/tmp/tmpagh989pv/prophet_model9hwgnqdp/prophet_model-20240802163847.csv', 'method=optimize', 'algorithm=lbfgs', 'iter=10000']\n",
            "16:38:47 - cmdstanpy - INFO - Chain [1] start processing\n",
            "INFO:cmdstanpy:Chain [1] start processing\n",
            "16:38:47 - cmdstanpy - INFO - Chain [1] done processing\n",
            "INFO:cmdstanpy:Chain [1] done processing\n",
            "INFO:prophet:Disabling weekly seasonality. Run prophet with weekly_seasonality=True to override this.\n",
            "DEBUG:cmdstanpy:input tempfile: /tmp/tmpagh989pv/_da86rmj.json\n",
            "DEBUG:cmdstanpy:input tempfile: /tmp/tmpagh989pv/9kiii75s.json\n",
            "DEBUG:cmdstanpy:idx 0\n",
            "DEBUG:cmdstanpy:running CmdStan, num_threads: None\n",
            "DEBUG:cmdstanpy:CmdStan args: ['/usr/local/lib/python3.10/dist-packages/prophet/stan_model/prophet_model.bin', 'random', 'seed=97716', 'data', 'file=/tmp/tmpagh989pv/_da86rmj.json', 'init=/tmp/tmpagh989pv/9kiii75s.json', 'output', 'file=/tmp/tmpagh989pv/prophet_modelr4b8ndxt/prophet_model-20240802163848.csv', 'method=optimize', 'algorithm=lbfgs', 'iter=10000']\n",
            "16:38:48 - cmdstanpy - INFO - Chain [1] start processing\n",
            "INFO:cmdstanpy:Chain [1] start processing\n"
          ]
        },
        {
          "output_type": "stream",
          "name": "stdout",
          "text": [
            "Procesando la serie de tiempo: nino3\n"
          ]
        },
        {
          "output_type": "stream",
          "name": "stderr",
          "text": [
            "16:38:48 - cmdstanpy - INFO - Chain [1] done processing\n",
            "INFO:cmdstanpy:Chain [1] done processing\n",
            "INFO:prophet:Disabling weekly seasonality. Run prophet with weekly_seasonality=True to override this.\n",
            "DEBUG:cmdstanpy:input tempfile: /tmp/tmpagh989pv/i36jozoa.json\n",
            "DEBUG:cmdstanpy:input tempfile: /tmp/tmpagh989pv/u6hem06x.json\n",
            "DEBUG:cmdstanpy:idx 0\n",
            "DEBUG:cmdstanpy:running CmdStan, num_threads: None\n",
            "DEBUG:cmdstanpy:CmdStan args: ['/usr/local/lib/python3.10/dist-packages/prophet/stan_model/prophet_model.bin', 'random', 'seed=92094', 'data', 'file=/tmp/tmpagh989pv/i36jozoa.json', 'init=/tmp/tmpagh989pv/u6hem06x.json', 'output', 'file=/tmp/tmpagh989pv/prophet_model4sewkh6g/prophet_model-20240802163849.csv', 'method=optimize', 'algorithm=lbfgs', 'iter=10000']\n",
            "16:38:49 - cmdstanpy - INFO - Chain [1] start processing\n",
            "INFO:cmdstanpy:Chain [1] start processing\n"
          ]
        },
        {
          "output_type": "stream",
          "name": "stdout",
          "text": [
            "Procesando la serie de tiempo: nino4\n"
          ]
        },
        {
          "output_type": "stream",
          "name": "stderr",
          "text": [
            "16:38:49 - cmdstanpy - INFO - Chain [1] done processing\n",
            "INFO:cmdstanpy:Chain [1] done processing\n",
            "INFO:prophet:Disabling weekly seasonality. Run prophet with weekly_seasonality=True to override this.\n",
            "DEBUG:cmdstanpy:input tempfile: /tmp/tmpagh989pv/fyph7oqj.json\n",
            "DEBUG:cmdstanpy:input tempfile: /tmp/tmpagh989pv/kmw_ssjo.json\n"
          ]
        },
        {
          "output_type": "stream",
          "name": "stdout",
          "text": [
            "Procesando la serie de tiempo: nino34\n"
          ]
        },
        {
          "output_type": "stream",
          "name": "stderr",
          "text": [
            "DEBUG:cmdstanpy:idx 0\n",
            "DEBUG:cmdstanpy:running CmdStan, num_threads: None\n",
            "DEBUG:cmdstanpy:CmdStan args: ['/usr/local/lib/python3.10/dist-packages/prophet/stan_model/prophet_model.bin', 'random', 'seed=8299', 'data', 'file=/tmp/tmpagh989pv/fyph7oqj.json', 'init=/tmp/tmpagh989pv/kmw_ssjo.json', 'output', 'file=/tmp/tmpagh989pv/prophet_modelz8bj040g/prophet_model-20240802163849.csv', 'method=optimize', 'algorithm=lbfgs', 'iter=10000']\n",
            "16:38:49 - cmdstanpy - INFO - Chain [1] start processing\n",
            "INFO:cmdstanpy:Chain [1] start processing\n",
            "16:38:50 - cmdstanpy - INFO - Chain [1] done processing\n",
            "INFO:cmdstanpy:Chain [1] done processing\n"
          ]
        },
        {
          "output_type": "stream",
          "name": "stdout",
          "text": [
            "Resumen de los resultados de Prophet:\n",
            "             MSE      RMSE       MAE        R²          MAPE  ADF Statistic  \\\n",
            "nino12  1.165270  1.079477  0.757610 -0.034389  6.156882e+14     -11.532023   \n",
            "nino3   0.936240  0.967595  0.704455 -0.162008  1.112707e+15     -10.225140   \n",
            "nino4   0.459242  0.677674  0.559611 -0.160522  2.532950e+14      -9.779188   \n",
            "nino34  0.828655  0.910305  0.694851 -0.110776  5.946613e+14     -10.125987   \n",
            "\n",
            "         ADF P-value  \n",
            "nino12  3.811493e-21  \n",
            "nino3   5.200632e-18  \n",
            "nino4   6.805263e-17  \n",
            "nino34  9.179166e-18  \n"
          ]
        },
        {
          "output_type": "display_data",
          "data": {
            "text/plain": [
              "<IPython.core.display.Javascript object>"
            ],
            "application/javascript": [
              "\n",
              "    async function download(id, filename, size) {\n",
              "      if (!google.colab.kernel.accessAllowed) {\n",
              "        return;\n",
              "      }\n",
              "      const div = document.createElement('div');\n",
              "      const label = document.createElement('label');\n",
              "      label.textContent = `Downloading \"${filename}\": `;\n",
              "      div.appendChild(label);\n",
              "      const progress = document.createElement('progress');\n",
              "      progress.max = size;\n",
              "      div.appendChild(progress);\n",
              "      document.body.appendChild(div);\n",
              "\n",
              "      const buffers = [];\n",
              "      let downloaded = 0;\n",
              "\n",
              "      const channel = await google.colab.kernel.comms.open(id);\n",
              "      // Send a message to notify the kernel that we're ready.\n",
              "      channel.send({})\n",
              "\n",
              "      for await (const message of channel.messages) {\n",
              "        // Send a message to notify the kernel that we're ready.\n",
              "        channel.send({})\n",
              "        if (message.buffers) {\n",
              "          for (const buffer of message.buffers) {\n",
              "            buffers.push(buffer);\n",
              "            downloaded += buffer.byteLength;\n",
              "            progress.value = downloaded;\n",
              "          }\n",
              "        }\n",
              "      }\n",
              "      const blob = new Blob(buffers, {type: 'application/binary'});\n",
              "      const a = document.createElement('a');\n",
              "      a.href = window.URL.createObjectURL(blob);\n",
              "      a.download = filename;\n",
              "      div.appendChild(a);\n",
              "      a.click();\n",
              "      div.remove();\n",
              "    }\n",
              "  "
            ]
          },
          "metadata": {}
        },
        {
          "output_type": "display_data",
          "data": {
            "text/plain": [
              "<IPython.core.display.Javascript object>"
            ],
            "application/javascript": [
              "download(\"download_15a83a3c-0d6c-417d-a1cc-497932528a80\", \"prophet_model_comparison.csv\", 623)"
            ]
          },
          "metadata": {}
        }
      ]
    }
  ]
}